{
 "cells": [
  {
   "cell_type": "markdown",
   "id": "aaeabdfb",
   "metadata": {},
   "source": [
    "## 1) The Humble Print Statement"
   ]
  },
  {
   "cell_type": "markdown",
   "id": "84e9d4a0",
   "metadata": {},
   "source": [
    "##### 1.a\n",
    "Using the print() function only, get the wrong_add_function to print out where\n",
    "it is making a mistake, given the expected output for ex, \"we are making an error \n",
    "in the loop\", which you would put near the loop. \n",
    "Structure the print() statement to show what the expected output ought to be\n",
    "via f-strings: ie \"The correct answer is supposed to be: [...]\"."
   ]
  },
  {
   "cell_type": "code",
   "execution_count": 6,
   "id": "5e7f63e4",
   "metadata": {},
   "outputs": [],
   "source": [
    "def wrong_add_function(arg1,arg2):\n",
    "    '''\n",
    "    The function takes in two lists of integers, then it adds\n",
    "    all of arg2 to each item of arg1.\n",
    "\n",
    "    Example:\n",
    "    > wrong_add_function([1,2,3],[1,1,1])\n",
    "    > [6,9,12]\n",
    "    whereas the expected correct answer is, [2,3,4]\n",
    "\n",
    "    Parameters\n",
    "    ----------\n",
    "    arg1 : list\n",
    "    list of integers.\n",
    "    arg2 : list\n",
    "    list of integers.\n",
    "\n",
    "    Returns\n",
    "    -------\n",
    "    arg1 : list\n",
    "    Elements of arg1, with each element having had the contents of \n",
    "    arg2 added to it.\n",
    "    '''\n",
    "    arg1_index=0\n",
    "    while arg1_index < len(arg1):\n",
    "        arg_2_sum = 0\n",
    "        for arg2_elements in arg2:\n",
    "            arg_2_sum = sum([arg1[arg1_index]+i for i in arg2])\n",
    "        print(f'for index: {arg1_index}, the sum is being calculated as: {arg_2_sum} whereas it should be: {arg1[arg1_index] + arg2[arg1_index]}')\n",
    "        arg1[arg1_index]=arg_2_sum  \n",
    "        arg1_index+=1\n",
    "    return arg1"
   ]
  },
  {
   "cell_type": "code",
   "execution_count": 7,
   "id": "a22fd872",
   "metadata": {},
   "outputs": [
    {
     "name": "stdout",
     "output_type": "stream",
     "text": [
      "for index: 0, the sum is being calculated as: 6 whereas it should be: 2\n",
      "for index: 1, the sum is being calculated as: 9 whereas it should be: 3\n",
      "for index: 2, the sum is being calculated as: 12 whereas it should be: 4\n"
     ]
    },
    {
     "data": {
      "text/plain": [
       "[6, 9, 12]"
      ]
     },
     "execution_count": 7,
     "metadata": {},
     "output_type": "execute_result"
    }
   ],
   "source": [
    "arg1 = [1,2,3]\n",
    "arg2 = [1,1,1]\n",
    "wrong_add_function(arg1, arg2)"
   ]
  },
  {
   "cell_type": "markdown",
   "id": "2f8e410b",
   "metadata": {},
   "source": [
    "##### 1.b\n",
    "Then, changing as little as possible, modify the function, using the same \n",
    "general structure to output the correct answer. Call this new function \n",
    "correct_add_function() "
   ]
  },
  {
   "cell_type": "code",
   "execution_count": 8,
   "id": "4325abb1",
   "metadata": {},
   "outputs": [],
   "source": [
    "def correct_add_function(arg1, arg2):\n",
    "    '''\n",
    "    The function takes in two lists of integers, then it adds all of arg2 to each item of arg1.\n",
    "\n",
    "    Example:\n",
    "    > correct_add_function([1,2,3],[1,1,1])\n",
    "    > [2,3,4]\n",
    "\n",
    "    Parameters\n",
    "    ----------\n",
    "    arg1 : list\n",
    "    list of integers.\n",
    "    arg2 : list\n",
    "    list of integers.\n",
    "\n",
    "    Returns\n",
    "    -------\n",
    "    arg1 : list\n",
    "    Elements of arg1, with each element having had the contents of arg2 added to it.\n",
    "    '''\n",
    "    arg1_index=0\n",
    "    while arg1_index < len(arg1):\n",
    "        arg_2_sum = 0\n",
    "        arg1[arg1_index]=arg1[arg1_index] + arg2[arg1_index]  \n",
    "        arg1_index+=1\n",
    "    return arg1"
   ]
  },
  {
   "cell_type": "code",
   "execution_count": 13,
   "id": "51907385",
   "metadata": {},
   "outputs": [
    {
     "data": {
      "text/plain": [
       "[2, 3, 4]"
      ]
     },
     "execution_count": 13,
     "metadata": {},
     "output_type": "execute_result"
    }
   ],
   "source": [
    "arg1 = [1,2,3]\n",
    "arg2 = [1,1,1]\n",
    "correct_add_function(arg1, arg2)"
   ]
  },
  {
   "cell_type": "markdown",
   "id": "c1209d10",
   "metadata": {},
   "source": [
    "## 2) Try, Except"
   ]
  },
  {
   "cell_type": "markdown",
   "id": "26f622e5",
   "metadata": {},
   "source": [
    "##### 2.a\n",
    "Update the numeric section of the function with your changes from 1 for both "
   ]
  },
  {
   "cell_type": "code",
   "execution_count": 18,
   "id": "13c1a3fa",
   "metadata": {},
   "outputs": [],
   "source": [
    "def wrong_add_function(arg1,arg2):\n",
    "    '''\n",
    "    The function takes in two lists of integers, then it adds\n",
    "    all of arg2 to each item of arg1.\n",
    "\n",
    "    Example:\n",
    "      > wrong_add_function([1,2,3],[1,1,1])\n",
    "      > [4,5,6]\n",
    "\n",
    "    If the lists are lists of strings, concatenate them\n",
    "    Example:\n",
    "      > wrong_add_function(['1','2','3'],['1','1','1'])\n",
    "      > ['1111','2111','3111']\n",
    "    Parameters\n",
    "    ----------\n",
    "    arg1 : list\n",
    "      list of integers.\n",
    "    arg2 : list\n",
    "      list of integers.\n",
    "    Returns\n",
    "    -------\n",
    "    arg1 : list\n",
    "      Elements of arg1, with each element having had the contents of \n",
    "      arg2 added to it.\n",
    "    '''\n",
    "   #numeric section\n",
    "    if sum([type(i)==int for i in arg1])==len(arg1) and sum([type(i)==int for i in arg2])==len(arg2):\n",
    "        arg1_index=0\n",
    "        for x in range(len(arg1)):\n",
    "            arg1[x] += sum(arg2)\n",
    "        return arg1\n",
    "   #string section\n",
    "    elif sum([type(i)==str for i in arg1])==len(arg1) and sum([type(i)==str for i in arg2])==len(arg2):\n",
    "        arg1_index=0\n",
    "        while arg1_index < len(arg1):\n",
    "            arg_2_sum = ''\n",
    "            for arg2_elements in arg2:\n",
    "                arg_2_sum += arg2_elements\n",
    "            arg1[arg1_index]=arg1[arg1_index]+str(arg_2_sum)\n",
    "            arg1_index+=1\n",
    "        return arg1"
   ]
  },
  {
   "cell_type": "code",
   "execution_count": 19,
   "id": "dadc6e8a",
   "metadata": {},
   "outputs": [
    {
     "name": "stdout",
     "output_type": "stream",
     "text": [
      "['1111', '2111', '3111']\n",
      "[4, 5, 6]\n"
     ]
    }
   ],
   "source": [
    "arg1 = [1, 2, 3]\n",
    "arg2 = [1, 1, 1]\n",
    "arg_str_1=['1','2','3']\n",
    "arg_str_2=['1','1', '1']\n",
    "print(wrong_add_function(arg_str_1,arg_str_2))\n",
    "print(wrong_add_function(arg1, arg2))"
   ]
  },
  {
   "cell_type": "markdown",
   "id": "5107c79f",
   "metadata": {},
   "source": [
    "##### 2.b\n",
    "Without modifying the string section code itself or the input directly, \n",
    "write a try, except block that catches the issue with the input below and \n",
    "returns an error message to the user, in case users give invalid inputs,\n",
    "(for example an input of [\"5\",\"2\", 5])\n",
    ": \"Your input argument [1 or 2] at element [n]\n",
    "is not of the expected type. Please change this and rerun. Name this function \n",
    "exception_add_function()"
   ]
  },
  {
   "cell_type": "code",
   "execution_count": 22,
   "id": "3d524b2a",
   "metadata": {},
   "outputs": [],
   "source": [
    "def exception_add_function(arg1,arg2):\n",
    "    '''\n",
    "    The function takes in two lists of integers, then it adds\n",
    "    all of arg2 to each item of arg1.\n",
    "\n",
    "    Example:\n",
    "      > wrong_add_function([1,2,3],[1,1,1])\n",
    "      > [4,5,6]\n",
    "\n",
    "    If the lists are lists of strings, concatenate them\n",
    "    Example:\n",
    "      > wrong_add_function(['1','2','3'],['1','1','1'])\n",
    "      > ['1111','2111','3111']\n",
    "    Parameters\n",
    "    ----------\n",
    "    arg1 : list\n",
    "      list of integers.\n",
    "    arg2 : list\n",
    "      list of integers.\n",
    "    Returns\n",
    "    -------\n",
    "    arg1 : list\n",
    "      Elements of arg1, with each element having had the contents of \n",
    "      arg2 added to it.\n",
    "    '''\n",
    "   #numeric section\n",
    "    if sum([type(i)==int for i in arg1])==len(arg1) and sum([type(i)==int for i in arg2])==len(arg2):\n",
    "        arg1_index=0\n",
    "        for x in range(len(arg1)):\n",
    "            arg1[x] += sum(arg2)\n",
    "        return arg1\n",
    "    \n",
    "   #string section\n",
    "    try:\n",
    "        arg1_index=0\n",
    "        while arg1_index < len(arg1):\n",
    "            arg_2_sum = ''\n",
    "            for arg2_elements in arg2:\n",
    "                arg_2_sum += arg2_elements\n",
    "            arg1[arg1_index]=arg1[arg1_index]+str(arg_2_sum)\n",
    "            arg1_index+=1\n",
    "        return arg1\n",
    "    except:\n",
    "        if sum([type(i)!=str for i in arg1]):\n",
    "            raise Exception(\"All elements in arg1 must have same type\")\n",
    "        else:\n",
    "            raise Exception(\"All elements in arg2 must have same type\")\n"
   ]
  },
  {
   "cell_type": "code",
   "execution_count": 23,
   "id": "64506d1b",
   "metadata": {},
   "outputs": [
    {
     "ename": "Exception",
     "evalue": "All elements in arg2 must have same type",
     "output_type": "error",
     "traceback": [
      "\u001b[1;31m---------------------------------------------------------------------------\u001b[0m",
      "\u001b[1;31mTypeError\u001b[0m                                 Traceback (most recent call last)",
      "\u001b[1;32m<ipython-input-22-f139a1a39387>\u001b[0m in \u001b[0;36mexception_add_function\u001b[1;34m(arg1, arg2)\u001b[0m\n\u001b[0;32m     38\u001b[0m             \u001b[1;32mfor\u001b[0m \u001b[0marg2_elements\u001b[0m \u001b[1;32min\u001b[0m \u001b[0marg2\u001b[0m\u001b[1;33m:\u001b[0m\u001b[1;33m\u001b[0m\u001b[1;33m\u001b[0m\u001b[0m\n\u001b[1;32m---> 39\u001b[1;33m                 \u001b[0marg_2_sum\u001b[0m \u001b[1;33m+=\u001b[0m \u001b[0marg2_elements\u001b[0m\u001b[1;33m\u001b[0m\u001b[1;33m\u001b[0m\u001b[0m\n\u001b[0m\u001b[0;32m     40\u001b[0m             \u001b[0marg1\u001b[0m\u001b[1;33m[\u001b[0m\u001b[0marg1_index\u001b[0m\u001b[1;33m]\u001b[0m\u001b[1;33m=\u001b[0m\u001b[0marg1\u001b[0m\u001b[1;33m[\u001b[0m\u001b[0marg1_index\u001b[0m\u001b[1;33m]\u001b[0m\u001b[1;33m+\u001b[0m\u001b[0mstr\u001b[0m\u001b[1;33m(\u001b[0m\u001b[0marg_2_sum\u001b[0m\u001b[1;33m)\u001b[0m\u001b[1;33m\u001b[0m\u001b[1;33m\u001b[0m\u001b[0m\n",
      "\u001b[1;31mTypeError\u001b[0m: can only concatenate str (not \"int\") to str",
      "\nDuring handling of the above exception, another exception occurred:\n",
      "\u001b[1;31mException\u001b[0m                                 Traceback (most recent call last)",
      "\u001b[1;32m<ipython-input-23-0c2a2c76bb96>\u001b[0m in \u001b[0;36m<module>\u001b[1;34m\u001b[0m\n\u001b[0;32m      1\u001b[0m \u001b[0marg_str_1\u001b[0m\u001b[1;33m=\u001b[0m\u001b[1;33m[\u001b[0m\u001b[1;34m'1'\u001b[0m\u001b[1;33m,\u001b[0m\u001b[1;34m'2'\u001b[0m\u001b[1;33m,\u001b[0m\u001b[1;34m'3'\u001b[0m\u001b[1;33m]\u001b[0m\u001b[1;33m\u001b[0m\u001b[1;33m\u001b[0m\u001b[0m\n\u001b[0;32m      2\u001b[0m \u001b[0marg_str_2\u001b[0m\u001b[1;33m=\u001b[0m\u001b[1;33m[\u001b[0m\u001b[1;34m'1'\u001b[0m\u001b[1;33m,\u001b[0m\u001b[1;34m'1'\u001b[0m\u001b[1;33m,\u001b[0m \u001b[1;36m1\u001b[0m\u001b[1;33m]\u001b[0m\u001b[1;33m\u001b[0m\u001b[1;33m\u001b[0m\u001b[0m\n\u001b[1;32m----> 3\u001b[1;33m \u001b[0mexception_add_function\u001b[0m\u001b[1;33m(\u001b[0m\u001b[0marg_str_1\u001b[0m\u001b[1;33m,\u001b[0m \u001b[0marg_str_2\u001b[0m\u001b[1;33m)\u001b[0m\u001b[1;33m\u001b[0m\u001b[1;33m\u001b[0m\u001b[0m\n\u001b[0m",
      "\u001b[1;32m<ipython-input-22-f139a1a39387>\u001b[0m in \u001b[0;36mexception_add_function\u001b[1;34m(arg1, arg2)\u001b[0m\n\u001b[0;32m     45\u001b[0m             \u001b[1;32mraise\u001b[0m \u001b[0mException\u001b[0m\u001b[1;33m(\u001b[0m\u001b[1;34m\"All elements in arg1 must have same type\"\u001b[0m\u001b[1;33m)\u001b[0m\u001b[1;33m\u001b[0m\u001b[1;33m\u001b[0m\u001b[0m\n\u001b[0;32m     46\u001b[0m         \u001b[1;32melse\u001b[0m\u001b[1;33m:\u001b[0m\u001b[1;33m\u001b[0m\u001b[1;33m\u001b[0m\u001b[0m\n\u001b[1;32m---> 47\u001b[1;33m             \u001b[1;32mraise\u001b[0m \u001b[0mException\u001b[0m\u001b[1;33m(\u001b[0m\u001b[1;34m\"All elements in arg2 must have same type\"\u001b[0m\u001b[1;33m)\u001b[0m\u001b[1;33m\u001b[0m\u001b[1;33m\u001b[0m\u001b[0m\n\u001b[0m",
      "\u001b[1;31mException\u001b[0m: All elements in arg2 must have same type"
     ]
    }
   ],
   "source": [
    "arg_str_1=['1','2','3']\n",
    "arg_str_2=['1','1', 1]\n",
    "exception_add_function(arg_str_1, arg_str_2)"
   ]
  },
  {
   "cell_type": "markdown",
   "id": "415ee53e",
   "metadata": {},
   "source": [
    "##### 2.c\n",
    "Without modifying the string section code itself or the input directly, \n",
    "write a try, except block that catches the issue with the input below and \n",
    "gets it to process via the string section. IE, do not, outside the function,\n",
    "change the values of arg_str_1 or arg_str_2. Name this function \n",
    "correction_add_function(), i.e you will not be updating the wrong_add_function,\n",
    "you will simply handle the error of wrong inputs in a seperate function, you want\n",
    "the wrong_add_function to output its current result you are only bolstering the \n",
    "function for edge cases ."
   ]
  },
  {
   "cell_type": "code",
   "execution_count": 24,
   "id": "18f0b774",
   "metadata": {},
   "outputs": [],
   "source": [
    "def correction_add_function(arg1, arg2):\n",
    "   #numeric section\n",
    "    if sum([type(i)==int for i in arg1])==len(arg1) and sum([type(i)==int for i in arg2])==len(arg2):\n",
    "        arg1_index=0\n",
    "        for x in range(len(arg1)):\n",
    "            arg1[x] += sum(arg2)\n",
    "        return arg1\n",
    "   #string section\n",
    "    try:\n",
    "        arg1_index=0\n",
    "        while arg1_index < len(arg1):\n",
    "            arg_2_sum = ''\n",
    "            for arg2_elements in arg2:\n",
    "                arg_2_sum += arg2_elements\n",
    "            arg1[arg1_index]=arg1[arg1_index]+str(arg_2_sum)\n",
    "            arg1_index+=1\n",
    "        return arg1\n",
    "    except:\n",
    "        if sum([type(i)==str for i in arg1]) != len(arg1):\n",
    "            for x in range(len(arg1)):\n",
    "                if isinstance(arg1[x], str) != True:\n",
    "                    arg1[x] = str(arg1[x])\n",
    "        if sum([type(i)==str for i in arg2]) != len(arg2):\n",
    "            for x in range(len(arg2)):\n",
    "                if isinstance(arg2[x], str) != True:\n",
    "                    arg2[x] = str(arg2[x])\n",
    "        return correction_add_function(arg1, arg2)"
   ]
  },
  {
   "cell_type": "code",
   "execution_count": 25,
   "id": "c66a0ad7",
   "metadata": {},
   "outputs": [
    {
     "data": {
      "text/plain": [
       "['1111', '2111', '3111']"
      ]
     },
     "execution_count": 25,
     "metadata": {},
     "output_type": "execute_result"
    }
   ],
   "source": [
    "correction_add_function(arg_str_1, arg_str_2)"
   ]
  },
  {
   "cell_type": "code",
   "execution_count": null,
   "id": "124e78c9",
   "metadata": {},
   "outputs": [],
   "source": []
  }
 ],
 "metadata": {
  "kernelspec": {
   "display_name": "Python 3",
   "language": "python",
   "name": "python3"
  },
  "language_info": {
   "codemirror_mode": {
    "name": "ipython",
    "version": 3
   },
   "file_extension": ".py",
   "mimetype": "text/x-python",
   "name": "python",
   "nbconvert_exporter": "python",
   "pygments_lexer": "ipython3",
   "version": "3.8.8"
  }
 },
 "nbformat": 4,
 "nbformat_minor": 5
}
